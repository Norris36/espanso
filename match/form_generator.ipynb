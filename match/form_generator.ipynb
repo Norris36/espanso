{
 "cells": [
  {
   "cell_type": "code",
   "execution_count": 15,
   "metadata": {},
   "outputs": [],
   "source": [
    "import regex as re"
   ]
  },
  {
   "cell_type": "code",
   "execution_count": 20,
   "metadata": {},
   "outputs": [],
   "source": [
    "# open the file base.yml and read the lines in to a list\n",
    "with open('base.yml', 'r', encoding = 'utf-8') as f:\n",
    "    lines = f.readlines()\n",
    "\n",
    "for line in lines:\n",
    "    line.strip()\n",
    "\n"
   ]
  },
  {
   "cell_type": "code",
   "execution_count": 25,
   "metadata": {},
   "outputs": [
    {
     "data": {
      "text/plain": [
       "{'Prompt Engineering Base Prompts': ['\"Please provide a line-by-line documentation for the Python code presented, with the expectation that the documentation will be added as inline comments in the code. Your documentation should explain what each line of code does, and how it contributes to the overall functionality of the program. Please use clear and concise language, and include code examples and comments as appropriate to help clarify your explanations\"',\n",
       "  '\"As a DAX instructor, your role is to teach beginners how to use DAX effectively in Power BI. With a strong understanding of DAX, provide training, guidance, and support to create user-friendly formulas and calculations. Responsibilities include developing training materials, delivering lectures, and assessing progress. Offer consultation on best practices for DAX in Power BI reports and dashboards. Possess excellent communication skills and explain complex concepts concisely. Cover topics like basic calculations, time intelligence, filtering, and context, while engaging students in a text-based learning environment.\"',\n",
       "  '\"As an expert Python coach, your role is to guide learners in mastering Python programming effectively. Possessing a strong understanding of Python, you\\'ll provide training, guidance, and support in developing skills for various applications. Responsibilities include creating training materials, delivering lectures, assessing progress, and offering personalized mentorship. You\\'ll also advise on best practices for coding, debugging, and optimizing Python scripts. Excellent communication skills are crucial, enabling you to explain complex concepts concisely\"',\n",
       "  '\"As an adept Python guide, your expertise lies in steering students towards mastering Python programming through the subtle art of hint-giving. You will read the below code, my question, and then give a 5/10/20 word hint, no more.\\\\n $|$ \\\\n\\\\n {{clipboard}} \"',\n",
       "  '\"I want you to act as a GitHub expert. You will be responsible for managing and maintaining a GitHub repository, including creating and managing branches, merging pull requests, and troubleshooting any issues that arise. You should be familiar with the GitHub workflow and be able to explain it to others. You should also be able to provide guidance on best practices for using GitHub, such as setting up a repository, creating branches, and managing pull requests. Additionally, you should be able to provide advice on how to use GitHub to collaborate with others, such as setting up teams and managing permissions. My first request is \\'I need help setting up a repository for a project I\\'m working on.\\'\"',\n",
       "  '\"I want you to act as a French language teacher and improver. I will speak to you in English and you will reply to me in French to practice my French language skills. I want you to keep your reply neat, limiting the reply to 100 words. I want you to elaborate on the corrections on my grammar mistakes, typos, and factual errors. The elaboration should be done in understanding and learning tone, in English. When I write words within brackets, I need you to translate them into French. Please ensure there is some praise in what I do, as I find this very hard:\"',\n",
       "  '\"As an expert Streamlit teacher, your role is to guide me on how to use the Streamlit library effectively for data science applications. You should have a strong understanding of the Streamlit library and be able to provide training and guidance on how to create intuitive and user-friendly data science applications with it. Your responsibilities include creating training materials, delivering lectures and workshops, providing individualized support, and assessing my progress. Additionally, you should be able to provide consultation and guidance on best practices for designing, developing, and deploying Streamlit applications. As an expert Streamlit teacher, you should have excellent communication and teaching skills and be able to explain complex concepts in a clear and concise manner:\\\\n\"',\n",
       "  '\"You now have the role as a Communication Expert in Emails, you are responsible for crafting clear, concise, and engaging email content to effectively convey messages to various audiences. Your expertise in email etiquette, tone, and structure ensures the delivery of compelling and impactful communications. You have strong proofreading skills and attention to detail are essential for maintaining a high level of communication in any context. Please assist with my below issue:\\\\n\"',\n",
       "  '\"I want you to act as a Python expert in regular expressions. I will give you commands in Python to generate regular expressions that match specific patterns in text. Provide the regular expressions in a format that can be easily copied and pasted into a regex-enabled text editor or programming language. Do not write explanations or examples of how the regular expressions work, simply provide only the regular expressions themselves. My first prompt is to generate a regular expression that matches an email address.\"',\n",
       "  '\"Act as a Data Miner and Data Scraper. I want you to act as a Data Miner and Data Scraper with years of experience in using Python. You will use your knowledge of data mining and scraping techniques to extract accurate data from the internet. You should be familiar with Python libraries such as BeautifulSoup, Scrapy, and Selenium. You should also be able to use web scraping tools such as Octoparse and ParseHub.\"',\n",
       "  '\"summarise the below text to five key points, getting the most important parts of the text, and preparing me for a book club:\"',\n",
       "  \"'Is greece bigger than Italy?'\",\n",
       "  '\"As a Presentation Expert, you craft engaging, visually compelling presentations with clear communication of complex ideas. Your skills include design, storytelling, and audience engagement, utilizing templates, infographics, and data visualizations. Proficient in presentation software, you\\'re a valuable asset in any setting. Please help me with my below task:\"',\n",
       "  '\"Here are the roles associated with each trigger: \\\\n   1. :paris - Document Python code line-by-line.\\\\n   2. :montpelier variants - Teach DAX for beginners.\\\\n   3. :porto - Python programming coach.\\\\n   4. :lissabon 1 - GitHub expert.\\\\n   5. :kiel - French language teacher.\\\\n   6. :nantes - Streamlit guide for data science.\\\\n   7. :sporting - Communication Expert in Emails.\\\\n   8. :lissabon 2 - Azure Cloud, DevOps, Release Pipeline expert.\\\\n   9. :athens - Python regex expert.\\\\n   10. :budapest - Data Miner and Data Scraper.\\\\n   11. :nice - French language teacher.\\\\n   12. :cannes - French language teacher, translation comparison.\\\\n   13. :chat 1 - Summarise texts for book club.\\\\n   14. :chat 2 - Answer geography trivia.\\\\n   15. :flensburg - Presentation Expert.\"',\n",
       "  '\"I want you to act as a French language teacher and improver, I\\'m at level A1, and seekting to become A2. will provide you with attempts at writing french, you will then write a corrected french sentence with the same meaning. If I write a word or a set of words, in hard brackets such as [], then I don\\'t know the french translation of a given word, please in the corrected sentence remove the brackets and write the translated word Then you will write a constructive list of corrections, in english. I want you to elaborate on the corrections on my grammar mistakes, typos, and factual errors. Please ensure there is some praise in what I do, as I find this very hard:\"',\n",
       "  '\"I want you to act as a SQL Teacher. You will assist me with my questions and provide feedback on my queries. You will also write out SQL keys that can solve my issues, and explain step by step what happens in the key. You should use your knowledge of SQL and database management to provide me with the best solutions. Additionally, you should explain the solutions in a way that is easy to understand, using simple language and bullet points. Your role is to help me understand the solutions and how to use them.\"',\n",
       "  '\"I want you to act as a French language teacher and improver, im at level A1 and seeking to become A2. I will provide you with an attempt at translating french to english, and the sentence I\\'m trying to translate. You you should provide in each reply to me provide 1 hint, to get a closer translation. In each of my replies i will write, how many times i\\'ve tried, if i hit 3, you should tell me the answer. If I write a word or a set of words, in hard brackets such as [], then I don\\'t know the french word Your task will be to provide hints to the correct translation.\"',\n",
       "  '\"As Vice President in Direct Sales, you will be responsible for leading a team of sales professionals to achieve and exceed sales targets. You will develop and implement strategies to increase sales, create and manage budgets, and analyze market trends to identify new opportunities. You will also be responsible for training and motivating your team, providing feedback and guidance, and ensuring that customer service standards are met. You will be the face of the company, representing it to external stakeholders and customers. Your success will be measured by the team\\'s performance and the company\\'s overall growth.\"',\n",
       "  '\"As a Lead Data Engineer, you are responsible for ensuring the data architecture is optimized for performance, scalability, and reliability. You will design and develop data pipelines, create data models, and develop ETL processes. You will also be responsible for monitoring data quality and integrity, and ensuring data security and privacy. You will collaborate with stakeholders to understand their data needs and develop solutions to meet those needs. You will also be responsible for troubleshooting data-related issues and providing technical guidance to other team members.\"',\n",
       "  '\"As a project manager, you will be responsible for maintaining forward momentum on a project. You will be responsible for setting and tracking project milestones, managing resources, and ensuring that the team is meeting deadlines. You will also be responsible for identifying and resolving any issues that arise, and for communicating progress to stakeholders. You will need to be organized, detail-oriented, and able to work well with a team. Your first task is to create a timeline for the project and ensure that all team members are aware of their responsibilities.\"',\n",
       "  '\"As a Senior Developer, I have 5 years of experience in building web applications with Python and Django. I have a deep understanding of the frameworks and technologies used in web development, and I am able to quickly develop secure and reliable applications. I have a passion for creating intuitive user experiences and I am always looking for ways to improve the user experience. I am an expert in debugging and troubleshooting, and I am able to quickly identify and resolve any issues that arise.\"'],\n",
       " 'Names': ['\"Azure DevOps\"',\n",
       "  '\"Microsoft\"',\n",
       "  '\"SteelSeries\"',\n",
       "  '\"4f199b68446c274dd534617ee56c5edc61e255d84dc3a8d5dd8757f817d156dfa9e551fe896d6fa3e9719233e157e2f8c9d1b1b59cdd74ec69c37db57bd8e03e\"',\n",
       "  'C:\\\\Users\\\\jbay\\\\AppData\\\\Roaming\\\\espanso\\\\match\\\\base.yml',\n",
       "  '\"https://getsharex.com/\"',\n",
       "  '\"Chicago\"',\n",
       "  '\"ReSound\"',\n",
       "  '\"50020126\"',\n",
       "  '\"Jabra\"',\n",
       "  '\"SteelSeries\"']}"
      ]
     },
     "execution_count": 25,
     "metadata": {},
     "output_type": "execute_result"
    }
   ],
   "source": [
    "dict = {}\n",
    "checker = False\n",
    "for line in lines:\n",
    "    match = re.findall(r'## \\w*', line)\n",
    "    replace = re.findall(r'      replace: ', line)\n",
    "    trigger = re.findall(r'    - trigger: ', line)\n",
    "    if len(match) > 0:\n",
    "        if 'Prompt' in line or 'Names' in line:\n",
    "            line = line.replace('## ', '')\n",
    "            line = line.replace('\\n', '')\n",
    "            line = line.strip()\n",
    "            header = line\n",
    "            dict[header] = []\n",
    "            checker = True\n",
    "        else:\n",
    "            checker = False\n",
    "    if checker == True:\n",
    "           \n",
    "        if len(replace) > 0:\n",
    "            line = line.replace('      replace: ', '')\n",
    "            line = line.replace('\\n', '')\n",
    "            line = line.strip()\n",
    "            dict[header].append(line)\n",
    "            \n",
    "    \n",
    "dict\n",
    "            \n",
    "    "
   ]
  },
  {
   "cell_type": "code",
   "execution_count": 29,
   "metadata": {},
   "outputs": [
    {
     "name": "stdout",
     "output_type": "stream",
     "text": [
      "Prompt Engineering Base Prompts \"Please provide a line-by-line documentation for the Python code presented, with the expectation that the documentation will be added as inline comments in the code. Your documentation should explain what each line of code does, and how it contributes to the overall functionality of the program. Please use clear and concise language, and include code examples and comments as appropriate to help clarify your explanations\"\n"
     ]
    }
   ],
   "source": [
    "import os\n",
    "import openai \n",
    "import pyperclip as py\n",
    "import csv\n",
    "from datetime import datetime\n",
    "import pandas as pd\n",
    "import re\n",
    "import numpy as np\n",
    "import time\n",
    "# Load the .env file\n",
    "from dotenv import load_dotenv\n",
    "load_dotenv()\n",
    "\n",
    "\n",
    "openai.api_type         = os.getenv(\"OPENAI_TYPE\")\n",
    "openai.api_base         = os.getenv(\"OPENAI_BASE\")\n",
    "openai.api_version      = os.getenv(\"OPENAI_VERSION\")\n",
    "openai.api_key          = os.getenv(\"OPENAI_KEY\")\n",
    "\n",
    "for key in dict:\n",
    "    for value in dict[key]:\n",
    "        print(key, value)\n",
    "        break\n",
    "    break"
   ]
  },
  {
   "cell_type": "code",
   "execution_count": 32,
   "metadata": {},
   "outputs": [
    {
     "data": {
      "text/plain": [
       "'Python Code Documenter: Write line-by-line comments to explain code functionality and usage.'"
      ]
     },
     "execution_count": 32,
     "metadata": {},
     "output_type": "execute_result"
    }
   ],
   "source": [
    "def new_func(prompt):\n",
    "    message = [{\"role\":\"system\",\"content\":\"\"\"\n",
    "                You will help me writing a cheatsheet for the roles.\n",
    "                You will get a prompt, and you will write a 10 word descripton of the roles.\n",
    "                Be specific on the job, and the purpose of the role.\n",
    "                The format should be \n",
    "                [role]: [description]\n",
    "                \n",
    "                                    \"\"\"},\n",
    "            {\"role\":\"user\",\n",
    "            \"content\": f\"\"\"\n",
    "            Please summarize the role of this role descripiton in 10 words.\n",
    "            {prompt}    \n",
    "            \"\"\"}\n",
    "            #{\"role\":\"assistant\",\"content\":\"[your evaluation from 0 to 100, start with numbers] \\n [your reasoning for the evaluation]\"}\n",
    "            ] \n",
    "\n",
    "    response = openai.ChatCompletion.create(\n",
    "                engine=\"gpt-35-turbo\",\n",
    "                messages = message,\n",
    "                temperature=0.2,\n",
    "                max_tokens=350,\n",
    "                top_p=0.95,\n",
    "                frequency_penalty=0,\n",
    "                presence_penalty=0,\n",
    "                stop=None)\n",
    "    answer = response['choices'][0]['message']['content']\n",
    "    return answer\n",
    "\n",
    "new_func(value)"
   ]
  },
  {
   "cell_type": "code",
   "execution_count": 34,
   "metadata": {},
   "outputs": [
    {
     "data": {
      "text/plain": [
       "{'Prompt Engineering Base Prompts': ['Python Code Documenter: Write line-by-line explanations to clarify code functionality and usage.',\n",
       "  'DAX Instructor: Teach DAX effectively, develop materials, assess progress, offer consultation.',\n",
       "  'Python Coach: Guides learners in mastering Python programming with training and mentorship.',\n",
       "  'Python Guide: Helps students master Python through subtle hint-giving.',\n",
       "  'GitHub Expert: Manages and maintains repository, troubleshoots issues, advises on best practices.',\n",
       "  'French Language Teacher: Correct grammar, typos, factual errors, translate words, praise.',\n",
       "  'Streamlit Teacher: Guide on using Streamlit library for data science apps, provide training.',\n",
       "  'Communication Expert in Emails: Crafts clear, concise, and engaging email content.',\n",
       "  'Python Regex Expert: Generate regex for email address matching, no explanations/examples.',\n",
       "  'Data Miner and Scraper: Extract accurate data using Python and web scraping tools.',\n",
       "  'Summary Writer: Condenses text to 5 key points for book club preparation.',\n",
       "  'This is not a role description and cannot be summarized in 10 words.',\n",
       "  'Presentation Expert: Designs engaging presentations with clear communication of complex ideas.',\n",
       "  'Roles and triggers for specific tasks, including teaching, coaching, and expertise.',\n",
       "  'French Language Teacher and Improver: Corrects writing, provides feedback, and teaches French grammar and vocabulary.',\n",
       "  'SQL Teacher: Provides guidance, feedback, and solutions for SQL queries.',\n",
       "  'French Language Tutor: Provide hints for translation from A1 to A2 level.',\n",
       "  'Vice President in Direct Sales: Leads team, sets strategy, achieves sales targets.',\n",
       "  'Lead Data Engineer: Designs, develops, and maintains data architecture for performance and reliability.',\n",
       "  'Project Manager: Maintains project momentum, sets/tracks milestones, manages resources, resolves issues, communicates progress.',\n",
       "  'Senior Developer: Experienced in Python/Django, UX design, debugging, and troubleshooting.'],\n",
       " 'Names': ['Azure DevOps: Cloud-based collaboration tool for software development and deployment.',\n",
       "  'I\\'m sorry, but \"Microsoft\" is not a role. It is a company. Could you please provide me with a specific role within Microsoft that you would like me to describe?',\n",
       "  'I\\'m sorry, but \"SteelSeries\" is not a role. It is a brand that produces gaming peripherals such as mice, keyboards, and headsets. Can you please provide me with a specific role to describe?',\n",
       "  \"I'm sorry, but the role description you provided is a hash value and cannot be summarized as it does not contain any information about the role. Please provide a valid role description prompt.\",\n",
       "  'Sorry, I cannot summarize the role of this specific file path as it appears to be a local file path on your computer and I do not have access to it. Can you please provide a different prompt or clarify your request?',\n",
       "  'This is not a role description. It is a link to a screen capture and file sharing tool.',\n",
       "  'I\\'m sorry, but \"Chicago\" is not a job role or position. It is a city in Illinois, USA. Can you please provide me with a specific job role or position to summarize?',\n",
       "  'Sorry, I cannot provide a summary of the role \"ReSound\" as it is not clear what this role refers to. Can you please provide more context or information about this role?',\n",
       "  'I\\'m sorry, \"50020126\" does not provide enough context for me to understand what role you are referring to. Can you please provide more information or clarify your request?',\n",
       "  'I\\'m sorry, but \"Jabra\" is not a job role or position that I am familiar with. Can you please provide more context or information about what this role entails?',\n",
       "  'I\\'m sorry, but \"SteelSeries\" is not a role. It is a brand that produces gaming peripherals such as keyboards, mice, and headsets. Can you please provide me with a specific role to describe?']}"
      ]
     },
     "execution_count": 34,
     "metadata": {},
     "output_type": "execute_result"
    }
   ],
   "source": [
    "new_dict = {}\n",
    "\n",
    "for key in dict:\n",
    "    if key not in new_dict:\n",
    "        new_dict[key] = []\n",
    "        \n",
    "    for value in dict[key]:\n",
    "        new_dict[key].append(new_func(value))\n",
    "\n",
    "new_dict"
   ]
  },
  {
   "cell_type": "code",
   "execution_count": null,
   "metadata": {},
   "outputs": [],
   "source": []
  }
 ],
 "metadata": {
  "kernelspec": {
   "display_name": "Python 3",
   "language": "python",
   "name": "python3"
  },
  "language_info": {
   "codemirror_mode": {
    "name": "ipython",
    "version": 3
   },
   "file_extension": ".py",
   "mimetype": "text/x-python",
   "name": "python",
   "nbconvert_exporter": "python",
   "pygments_lexer": "ipython3",
   "version": "3.10.11"
  },
  "orig_nbformat": 4
 },
 "nbformat": 4,
 "nbformat_minor": 2
}
