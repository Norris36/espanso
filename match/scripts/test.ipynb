{
 "cells": [
  {
   "cell_type": "code",
   "execution_count": 20,
   "metadata": {},
   "outputs": [
    {
     "name": "stdout",
     "output_type": "stream",
     "text": [
      "No, Italy is bigger than Greece. Italy has an area of approximately 301,340 square kilometers, while Greece has an area of approximately 131,957 square kilometers.\n"
     ]
    }
   ],
   "source": [
    "import os\n",
    "import openai \n",
    "import pyperclip as py\n",
    "openai.api_type     = \"azure\"\n",
    "openai.api_base     = \"https://dcei-openai-we.openai.azure.com/\"\n",
    "openai.api_version = \"2023-03-15-preview\"\n",
    "openai.api_key      = 'e12bcf7f25f94e259d06c393b4568bc0'\n",
    "\n",
    "py.copy('Is greece bigger than Italy? ')\n",
    "\n",
    "prompt = py.paste()\n",
    "\n",
    "message = [{\"role\":\"system\",\"content\":\"\"\"\n",
    "            You will act as my personal assistant. \n",
    "            You will solve my tasks in a clear and to the point.\n",
    "            Each task you solve should be delivered with out reflection or other comments, except if it is specifically requested\"\"\"},\n",
    "            {\"role\":\"user\",\n",
    "             \"content\": f'{prompt}'}\n",
    "            #{\"role\":\"assistant\",\"content\":\"[your evaluation from 0 to 100, start with numbers] \\n [your reasoning for the evaluation]\"}\n",
    "            ] \n",
    "\n",
    "response = openai.ChatCompletion.create(\n",
    "    deployment_id = 'gpt-35-turbo',\n",
    "    engine = 'gpt-35-turbo',\n",
    "    messages = message,\n",
    "    temperature = 0.2,\n",
    "    max_tokens = 400,\n",
    "    top_p = 0.95,\n",
    "    frequency_penalty = 0,\n",
    "    presence_penalty = 0,\n",
    "    stop = None\n",
    ")\n",
    "\n",
    "print(response['choices'][0]['message']['content'])"
   ]
  },
  {
   "cell_type": "code",
   "execution_count": 19,
   "metadata": {},
   "outputs": [
    {
     "data": {
      "text/plain": [
       "<OpenAIObject chat.completion id=chatcmpl-7Joa33YcTh8nxboZZ5mNYJ7MHMrrT at 0x1363abf1cb0> JSON: {\n",
       "  \"choices\": [\n",
       "    {\n",
       "      \"finish_reason\": \"stop\",\n",
       "      \"index\": 0,\n",
       "      \"message\": {\n",
       "        \"content\": \"No, Italy is bigger than Greece. Italy has an area of approximately 301,340 square kilometers, while Greece has an area of approximately 131,957 square kilometers.\",\n",
       "        \"role\": \"assistant\"\n",
       "      }\n",
       "    }\n",
       "  ],\n",
       "  \"created\": 1684957019,\n",
       "  \"id\": \"chatcmpl-7Joa33YcTh8nxboZZ5mNYJ7MHMrrT\",\n",
       "  \"model\": \"gpt-35-turbo\",\n",
       "  \"object\": \"chat.completion\",\n",
       "  \"usage\": {\n",
       "    \"completion_tokens\": 35,\n",
       "    \"prompt_tokens\": 51,\n",
       "    \"total_tokens\": 86\n",
       "  }\n",
       "}"
      ]
     },
     "execution_count": 19,
     "metadata": {},
     "output_type": "execute_result"
    }
   ],
   "source": [
    "messages = [{\"role\":\"system\",\"content\":\"\"\"You will act as a memory coach, and help me with remembering the material i provide you.\n",
    "            You will get a paragraph, and you will return a very short 15 word question, which asks to the main point of the quesiton.\n",
    "            The author names must be included in the question, this could be How does Feldmand and Pentlands (year) perspective...\n",
    "            The question should be precise, and captivating at the same time.\n",
    "            Don't always use What.. \"\"\"},\n",
    "                {\"role\":\"user\",\"content\":f\"I am studying payroll and Im currently need your help generating a question, the author names are GN, for the below text is defined as: \\n \\n\"}\n",
    "                #{\"role\":\"assistant\",\"content\":\"[your evaluation from 0 to 100, start with numbers] \\n [your reasoning for the evaluation]\"}\n",
    "                ] \n",
    "\n",
    "\n",
    "response"
   ]
  },
  {
   "cell_type": "code",
   "execution_count": null,
   "metadata": {},
   "outputs": [],
   "source": []
  }
 ],
 "metadata": {
  "kernelspec": {
   "display_name": "Python 3",
   "language": "python",
   "name": "python3"
  },
  "language_info": {
   "codemirror_mode": {
    "name": "ipython",
    "version": 3
   },
   "file_extension": ".py",
   "mimetype": "text/x-python",
   "name": "python",
   "nbconvert_exporter": "python",
   "pygments_lexer": "ipython3",
   "version": "3.10.11"
  },
  "orig_nbformat": 4,
  "vscode": {
   "interpreter": {
    "hash": "04b815c6f433821a83cc9e9c7b49330b771dd14bac87c94a36c7a9e0484b87a3"
   }
  }
 },
 "nbformat": 4,
 "nbformat_minor": 2
}
