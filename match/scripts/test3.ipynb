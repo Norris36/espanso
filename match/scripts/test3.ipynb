{
 "cells": [
  {
   "cell_type": "code",
   "execution_count": 2,
   "metadata": {},
   "outputs": [
    {
     "name": "stdout",
     "output_type": "stream",
     "text": [
      "When a user enters a coupon code on the cart page, the \"cartView\" function in the cart.py file is called. This function triggers a \"send_robust\" signal to the signals.py file, which in turn calls the \"segment_track\" function. This function sends the coupon code data to the database under the COUPON_ENTERED event. The data flows from the front end to the cartView function, then to the signals.py file, and finally to the database where it is stored for future use.\n"
     ]
    }
   ],
   "source": [
    "import os\n",
    "import openai \n",
    "import pyperclip as py\n",
    "import csv\n",
    "from datetime import datetime\n",
    "# Load the .env file\n",
    "from dotenv import load_dotenv\n",
    "load_dotenv()\n",
    "\n",
    "\n",
    "openai.api_type         = os.getenv(\"OPENAI_TYPE\")\n",
    "openai.api_base         = os.getenv(\"OPENAI_BASE\")\n",
    "openai.api_version      = os.getenv(\"OPENAI_VERSION\")\n",
    "openai.api_key          = os.getenv(\"OPENAI_KEY\")\n",
    "\n",
    "\n",
    "def get_log_path():\n",
    "   # The `return os.path.join(os.path.dirname(__file__), \"data.csv\")` line of code is returning the\n",
    "   # full path of the `data.csv` file by joining the directory path of the current file with the\n",
    "   # filename `data.csv`.\n",
    "   return os.path.join(os.path.dirname(__file__), \"gpt_log.csv\")\n",
    "\n",
    "#py.copy('Is greece bigger than Italy? ')\n",
    "\n",
    "prompt = py.paste().strip()\n",
    "\n",
    "\n",
    "base_message = [{\"role\":\"system\",\"content\":\"\"\"\n",
    "                As a Technical Developer with several years of experience in Python and Django, you will be responsible for creating data flow diagrams\n",
    "                You will be provided with a set of paths, functions, and a short description, and you will be expected to write a short description of how the Python files call the function sending the data\n",
    "                The description you write will be read by other developers and non-technical users, so it is important that its written in a clear fashion for both audiences.\n",
    "                All paths should be written as from dotcom\n",
    "                \n",
    "                the description should be between 25-50 words, and should include the following:\n",
    "                - the name of the event\n",
    "                - the name of the event in the dotcom data\n",
    "                - the files sending the data, with a reletaive path from dotcom and down\n",
    "                - the files triggering the data, with a reletaive path from dotcom and down\n",
    "                \n",
    "                ---------------------------------------------------------------- \n",
    "                                    \"\"\"},\n",
    "            {\"role\":\"user\",\"content\": \"\"\"\"Event Name: Email Subscribed; Dotcom name: EMAIL_SUBSCRIBED; declaring file calls: newsletter.py; signals are defined and/or triggered:  newsletter.py.\"\"\"},\n",
    "            {\"role\":\"assistant\",\"content\":\"\"\"When a user subscribes to the newsletter on the front end, the \"subscribe\" function in the newsletter.py file is triggered. This function takes the user's email address and sends it to the database as a new subscription under the EMAIL_SUBSCRIBED event. The data flows from the front end to the subscribe function, and then to the database where it is stored for future use.\"\"\"},\n",
    "            {\"role\":\"user\",\n",
    "            \"content\": f\"\"\"\n",
    "            Please write a description of how the code triggers the event, and how the data flows to the database from the front end.\n",
    "            {prompt}    \n",
    "            \"\"\"}\n",
    "            #{\"role\":\"assistant\",\"content\":\"[your evaluation from 0 to 100, start with numbers] \\n [your reasoning for the evaluation]\"}\n",
    "            ] \n",
    "message = base_message\n",
    "\n",
    "\n",
    "response = openai.ChatCompletion.create(\n",
    "    deployment_id = 'gpt-35-turbo',\n",
    "    engine = 'gpt-35-turbo',\n",
    "    messages = message,\n",
    "    temperature = 0.2,\n",
    "    max_tokens = 2000,\n",
    "    top_p = 0.95,\n",
    "    frequency_penalty = 0,\n",
    "    presence_penalty = 0,\n",
    "    stop = None\n",
    ")\n",
    "\n",
    "response = response['choices'][0]['message']['content']\n",
    "\n",
    "timestamp = int(datetime.utcnow().timestamp())\n",
    "\n",
    "# path = r'C:\\Users\\jbay\\AppData\\Roaming\\espanso\\match\\scripts\\gpt_log.csv'\n",
    "\n",
    "# with open(get_log_path(), mode='a', newline='') as file:\n",
    "#     writer = csv.writer(file)\n",
    "#     writer.writerow([prompt, response, timestamp])\n",
    "\n",
    "# for i in range(len(prompt)):\n",
    "#     response += f'\\n i, {prompt[i]}'\n",
    "\n",
    "print(response)\n",
    "# except:\n",
    "#     response = 'error' \n",
    "#     for i in range(len(prompt_list)):\n",
    "#         response += f'\\n {i}, {prompt_list[i]}'\n",
    "#     print(response)"
   ]
  },
  {
   "cell_type": "code",
   "execution_count": 3,
   "metadata": {},
   "outputs": [
    {
     "data": {
      "text/plain": [
       "'When a user enters a coupon code on the cart page, the \"cartView\" function in the cart.py file is called. This function triggers a \"send_robust\" signal to the signals.py file, which in turn calls the \"segment_track\" function. This function sends the coupon code data to the database under the COUPON_ENTERED event. The data flows from the front end to the cartView function, then to the signals.py file, and finally to the database where it is stored for future use.'"
      ]
     },
     "execution_count": 3,
     "metadata": {},
     "output_type": "execute_result"
    }
   ],
   "source": []
  },
  {
   "cell_type": "code",
   "execution_count": 6,
   "metadata": {},
   "outputs": [],
   "source": [
    "teacher_message = [{\"role\":\"system\",\"content\":\"\"\"\n",
    "                You are an experienced employee from the quality assurance team. You are responsible for writing a description of how the code triggers the event, and how the data flows to the database from the front end.\n",
    "                \n",
    "                You have requested your student assistant to do, so but need to assert that the description is correct.\n",
    "                If not, request him to redo it with concrete feedback\n",
    "                \n",
    "                 the description should be between 25-50 words, and should include the following:\n",
    "                - the name of the event\n",
    "                - the name of the event in the dotcom data\n",
    "                - the files sending the data, with a reletaive path from dotcom and down\n",
    "                - the files triggering the data, with a reletaive path from dotcom and down\n",
    "                \n",
    "                all paths should be written as from dotcom\n",
    "                \n",
    "                ---------------------------------------------------------------- \n",
    "                                    \"\"\"},\n",
    "            {\"role\":\"user\",\n",
    "            \"content\": f\"\"\"\n",
    "            I got this as input from the developer:\n",
    "            {prompt}   \n",
    "            Is this sufficient?\n",
    "            {response} \n",
    "            \"\"\"}\n",
    "            #{\"role\":\"assistant\",\"content\":\"[your evaluation from 0 to 100, start with numbers] \\n [your reasoning for the evaluation]\"}\n",
    "            ] \n",
    "\n",
    "teacher = openai.ChatCompletion.create(\n",
    "    deployment_id = 'gpt-35-turbo',\n",
    "    engine = 'gpt-35-turbo',\n",
    "    messages = teacher_message,\n",
    "    temperature = 0.2,\n",
    "    max_tokens = 2000,\n",
    "    top_p = 0.95,\n",
    "    frequency_penalty = 0,\n",
    "    presence_penalty = 0,\n",
    "    stop = None\n",
    ")\n"
   ]
  },
  {
   "cell_type": "code",
   "execution_count": 7,
   "metadata": {},
   "outputs": [
    {
     "data": {
      "text/plain": [
       "<OpenAIObject chat.completion id=chatcmpl-7QgFOyHc0amFCTdLBcA3cC4S0SU0c at 0x2509e88f5b0> JSON: {\n",
       "  \"choices\": [\n",
       "    {\n",
       "      \"finish_reason\": \"stop\",\n",
       "      \"index\": 0,\n",
       "      \"message\": {\n",
       "        \"content\": \"Yes, the description provided by the developer is sufficient. It includes the name of the event, the dotcom name, and the files sending and triggering the data with their relative paths from dotcom. It also explains how the data flows from the front end to the database. However, you can ask the developer to provide more details on how the data is processed and stored in the database if needed.\",\n",
       "        \"role\": \"assistant\"\n",
       "      }\n",
       "    }\n",
       "  ],\n",
       "  \"created\": 1686593282,\n",
       "  \"id\": \"chatcmpl-7QgFOyHc0amFCTdLBcA3cC4S0SU0c\",\n",
       "  \"model\": \"gpt-35-turbo\",\n",
       "  \"object\": \"chat.completion\",\n",
       "  \"usage\": {\n",
       "    \"completion_tokens\": 80,\n",
       "    \"prompt_tokens\": 372,\n",
       "    \"total_tokens\": 452\n",
       "  }\n",
       "}"
      ]
     },
     "execution_count": 7,
     "metadata": {},
     "output_type": "execute_result"
    }
   ],
   "source": [
    "teacher"
   ]
  },
  {
   "cell_type": "code",
   "execution_count": null,
   "metadata": {},
   "outputs": [],
   "source": []
  }
 ],
 "metadata": {
  "kernelspec": {
   "display_name": "Python 3",
   "language": "python",
   "name": "python3"
  },
  "language_info": {
   "codemirror_mode": {
    "name": "ipython",
    "version": 3
   },
   "file_extension": ".py",
   "mimetype": "text/x-python",
   "name": "python",
   "nbconvert_exporter": "python",
   "pygments_lexer": "ipython3",
   "version": "3.10.11"
  },
  "orig_nbformat": 4,
  "vscode": {
   "interpreter": {
    "hash": "04b815c6f433821a83cc9e9c7b49330b771dd14bac87c94a36c7a9e0484b87a3"
   }
  }
 },
 "nbformat": 4,
 "nbformat_minor": 2
}
