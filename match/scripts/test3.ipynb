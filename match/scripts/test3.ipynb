{
 "cells": [
  {
   "cell_type": "code",
   "execution_count": 1,
   "metadata": {},
   "outputs": [
    {
     "data": {
      "text/plain": [
       "2"
      ]
     },
     "execution_count": 1,
     "metadata": {},
     "output_type": "execute_result"
    }
   ],
   "source": [
    "1 + 1"
   ]
  },
  {
   "cell_type": "code",
   "execution_count": 11,
   "metadata": {},
   "outputs": [
    {
     "name": "stdout",
     "output_type": "stream",
     "text": [
      "Requirement already satisfied: tqdm in c:\\users\\jbay\\appdata\\local\\packages\\pythonsoftwarefoundation.python.3.10_qbz5n2kfra8p0\\localcache\\local-packages\\python310\\site-packages (4.64.1)\n",
      "Requirement already satisfied: colorama in c:\\users\\jbay\\appdata\\local\\packages\\pythonsoftwarefoundation.python.3.10_qbz5n2kfra8p0\\localcache\\local-packages\\python310\\site-packages (from tqdm) (0.4.6)\n",
      "Note: you may need to restart the kernel to use updated packages.\n"
     ]
    },
    {
     "name": "stderr",
     "output_type": "stream",
     "text": [
      "\n",
      "[notice] A new release of pip available: 22.3.1 -> 23.0\n",
      "[notice] To update, run: C:\\Users\\jbay\\AppData\\Local\\Microsoft\\WindowsApps\\PythonSoftwareFoundation.Python.3.10_qbz5n2kfra8p0\\python.exe -m pip install --upgrade pip\n"
     ]
    }
   ],
   "source": [
    "pip install tqdm"
   ]
  },
  {
   "cell_type": "code",
   "execution_count": 13,
   "metadata": {},
   "outputs": [
    {
     "name": "stdout",
     "output_type": "stream",
     "text": [
      "C:\\$Recycle.Bin\\S-1-12-1-649625232-1099240321-3228203140-1361108742\\$RC8ENV9\\espanso_config.py\n",
      "C:\\ProgramData\\Microsoft\\Windows\\WER\\ReportArchive\\AppCrash_espansod.exe_175ac3db4a2177372aa338fe95d572d43a63a_e0da0985_1b0c60cf-861b-445e-b115-f29628fa6b9b\n",
      "C:\\ProgramData\\Microsoft\\Windows\\WER\\ReportArchive\\AppCrash_espansod.exe_175ac3db4a2177372aa338fe95d572d43a63a_e0da0985_389fc5bb-2130-4aff-b240-2f5bd844ba7d\n",
      "C:\\ProgramData\\Microsoft\\Windows\\WER\\ReportArchive\\AppCrash_espansod.exe_175ac3db4a2177372aa338fe95d572d43a63a_e0da0985_c358559f-7ee7-4f17-b4d0-af03d34b60f7\n",
      "C:\\ProgramData\\Microsoft\\Windows\\WER\\ReportArchive\\AppCrash_espansod.exe_23284a56edea43b055ce27ce754486816dc7216_e0da0985_f8dfe888-3cb0-4eab-ac92-d1d89e271a1d\n",
      "C:\\ProgramData\\Microsoft\\Windows\\WER\\ReportArchive\\AppCrash_espansod.exe_2ae5beba2f1758d67de994681c6a18a4b8b75d_e0da0985_100f9db0-8186-4bd1-923a-4b3d0124ce3e\n",
      "C:\\ProgramData\\Microsoft\\Windows\\WER\\ReportArchive\\AppCrash_espansod.exe_2ae5beba2f1758d67de994681c6a18a4b8b75d_e0da0985_753dce9e-a7dc-4396-9bd6-ebe886a8a535\n",
      "C:\\ProgramData\\Microsoft\\Windows\\WER\\ReportArchive\\AppCrash_espansod.exe_38d0d2e66311fe143b15289ae9bd2b7a3d2c62c_e0da0985_04507668-6bd5-4bf5-9f12-8e26d8effc64\n",
      "C:\\ProgramData\\Microsoft\\Windows\\WER\\ReportArchive\\AppCrash_espansod.exe_38d0d2e66311fe143b15289ae9bd2b7a3d2c62c_e0da0985_661b6bc4-121b-4597-bc1e-b1d01c5e24e9\n",
      "C:\\ProgramData\\Microsoft\\Windows\\WER\\ReportArchive\\AppCrash_espansod.exe_38d0d2e66311fe143b15289ae9bd2b7a3d2c62c_e0da0985_6f32e35f-c66c-4918-ad06-9f3a09d37d08\n",
      "C:\\ProgramData\\Microsoft\\Windows\\WER\\ReportArchive\\AppCrash_espansod.exe_38d0d2e66311fe143b15289ae9bd2b7a3d2c62c_e0da0985_9e7999c2-021a-456b-bbd5-f45f18ee564c\n",
      "C:\\ProgramData\\Microsoft\\Windows\\WER\\ReportArchive\\AppCrash_espansod.exe_38d0d2e66311fe143b15289ae9bd2b7a3d2c62c_e0da0985_b109964f-ffa1-4461-872c-9842ca140226\n",
      "C:\\ProgramData\\Microsoft\\Windows\\WER\\ReportArchive\\AppCrash_espansod.exe_38d0d2e66311fe143b15289ae9bd2b7a3d2c62c_e0da0985_b3e7d03e-a4cd-4b95-a8de-6b4aa4aee16a\n",
      "C:\\ProgramData\\Microsoft\\Windows\\WER\\ReportArchive\\AppCrash_espansod.exe_38d0d2e66311fe143b15289ae9bd2b7a3d2c62c_e0da0985_dcc71ca7-2dc0-4fc1-bd3a-d07302be23e9\n",
      "C:\\ProgramData\\Microsoft\\Windows\\WER\\ReportArchive\\AppCrash_espansod.exe_48269b44863193b19257e5adfc91c8ebc11067_e0da0985_7079d547-9ccb-4631-bdca-be06eb815700\n",
      "C:\\ProgramData\\Microsoft\\Windows\\WER\\ReportArchive\\AppCrash_espansod.exe_4d1814805cd04ff74ca2678e7fabe60a04731f1_e0da0985_8e7c238c-92dd-4871-b791-4894949d4ba3\n",
      "C:\\ProgramData\\Microsoft\\Windows\\WER\\ReportArchive\\AppCrash_espansod.exe_d06f40aea013bff35a3cf9295359bf1999558fd_e0da0985_106e5874-bb92-4267-bb78-b71ccaace388\n",
      "C:\\ProgramData\\Microsoft\\Windows\\WER\\ReportArchive\\AppCrash_espansod.exe_d06f40aea013bff35a3cf9295359bf1999558fd_e0da0985_147389b8-04ce-4eb0-be38-c4c8072c3b4b\n",
      "C:\\ProgramData\\Microsoft\\Windows\\WER\\ReportArchive\\AppCrash_espansod.exe_d06f40aea013bff35a3cf9295359bf1999558fd_e0da0985_1afdd490-830e-4b2e-88a7-1196359e7b42\n",
      "C:\\ProgramData\\Microsoft\\Windows\\WER\\ReportArchive\\AppCrash_espansod.exe_d06f40aea013bff35a3cf9295359bf1999558fd_e0da0985_789b427f-9487-4d68-a0e7-e2dcf0caa18b\n",
      "C:\\ProgramData\\Microsoft\\Windows\\WER\\ReportArchive\\AppCrash_espansod.exe_d06f40aea013bff35a3cf9295359bf1999558fd_e0da0985_85420cf5-e4ff-4f4e-a0e0-33cb48f0ac0e\n",
      "C:\\ProgramData\\Microsoft\\Windows\\WER\\ReportArchive\\AppCrash_espansod.exe_d06f40aea013bff35a3cf9295359bf1999558fd_e0da0985_fbc9ec2a-aca6-4817-819b-d898fa2f17bd\n",
      "C:\\ProgramData\\Microsoft\\Windows\\WER\\ReportArchive\\AppCrash_espansod.exe_f1708ae219efacfdc94acf132286c21a5c77da_e0da0985_1ece81e9-210e-4508-99c4-9c9af6260be6\n",
      "C:\\ProgramData\\Microsoft\\Windows\\WER\\ReportArchive\\AppCrash_espansod.exe_f1708ae219efacfdc94acf132286c21a5c77da_e0da0985_6ed1b4d6-7ca3-4e56-8aa1-9dfd2c5bf0ef\n",
      "C:\\ProgramData\\Microsoft\\Windows\\WER\\ReportArchive\\AppCrash_espansod.exe_f1708ae219efacfdc94acf132286c21a5c77da_e0da0985_b2601a8b-5b94-44f4-956d-8b558a6b852e\n",
      "C:\\Users\\jbay\\AppData\\Local\\espanso\n",
      "C:\\Users\\jbay\\AppData\\Local\\CrashDumps\\espansod.exe.10196.dmp\n",
      "C:\\Users\\jbay\\AppData\\Local\\CrashDumps\\espansod.exe.13288.dmp\n",
      "C:\\Users\\jbay\\AppData\\Local\\CrashDumps\\espansod.exe.16336.dmp\n",
      "C:\\Users\\jbay\\AppData\\Local\\CrashDumps\\espansod.exe.19896.dmp\n",
      "C:\\Users\\jbay\\AppData\\Local\\CrashDumps\\espansod.exe.21624.dmp\n",
      "C:\\Users\\jbay\\AppData\\Local\\CrashDumps\\espansod.exe.24516.dmp\n",
      "C:\\Users\\jbay\\AppData\\Local\\CrashDumps\\espansod.exe.24776.dmp\n",
      "C:\\Users\\jbay\\AppData\\Local\\CrashDumps\\espansod.exe.25048.dmp\n",
      "C:\\Users\\jbay\\AppData\\Local\\CrashDumps\\espansod.exe.30960.dmp\n",
      "C:\\Users\\jbay\\AppData\\Local\\CrashDumps\\espansod.exe.5740.dmp\n",
      "C:\\Users\\jbay\\AppData\\Local\\espanso\\espanso-daemon.lock\n",
      "C:\\Users\\jbay\\AppData\\Local\\espanso\\espanso-worker.lock\n",
      "C:\\Users\\jbay\\AppData\\Local\\espanso\\espanso.lock\n",
      "C:\\Users\\jbay\\AppData\\Local\\espanso\\espanso.log\n",
      "C:\\Users\\jbay\\AppData\\Local\\Programs\\Espanso\\espanso.cmd\n",
      "C:\\Users\\jbay\\AppData\\Local\\Programs\\Espanso\\espansod.exe\n",
      "C:\\Users\\jbay\\AppData\\Roaming\\espanso\n",
      "C:\\Users\\jbay\\AppData\\Roaming\\espanso\\match\\packages\\typofixer-da\\espanso_updater.ipynb\n",
      "C:\\Users\\jbay\\AppData\\Roaming\\espanso\\match\\packages\\typofixer-en\\espanso_update.ipynb\n",
      "C:\\Users\\jbay\\AppData\\Roaming\\espanso\\match\\scripts\\espanso_config.py\n",
      "C:\\Users\\jbay\\AppData\\Roaming\\Microsoft\\Windows\\Recent\\espanso.lnk\n",
      "C:\\Users\\jbay\\AppData\\Roaming\\Microsoft\\Windows\\Start Menu\\Programs\\Startup\\espanso.lnk\n",
      "C:\\Users\\jbay\\OneDrive - GN Store Nord\\Workspace\\Amphion\\espanso_config.py\n",
      "C:\\Users\\jbay\\OneDrive - GN Store Nord\\Workspace\\New folder\\match\\packages\\typofixer-da\\espanso_updater.ipynb\n",
      "C:\\Users\\jbay\\OneDrive - GN Store Nord\\Workspace\\New folder\\match\\packages\\typofixer-en\\espanso_update.ipynb\n",
      "C:\\Users\\jbay\\OneDrive - GN Store Nord\\Workspace\\New folder\\match\\scripts\\espanso_config.py\n",
      "C:\\Users\\jbay\\OneDrive - GN Store Nord\\Workspace\\New folder\\packages\\typofixer-da\\espanso_updater.ipynb\n",
      "C:\\Users\\jbay\\OneDrive - GN Store Nord\\Workspace\\New folder\\packages\\typofixer-en\\espanso_update.ipynb\n"
     ]
    }
   ],
   "source": [
    "import os \n",
    "\n",
    "path =\"C:\\\\\"\n",
    "\n",
    "for root, dirs, files in os.walk(path):\n",
    "    for name in files:    \n",
    "        if 'espanso' in name:\n",
    "            test_path = os.path.join(root,name)\n",
    "            print(test_path)\n",
    "    for dir in dirs:\n",
    "        if 'espanso' in dir:\n",
    "            test_path = os.path.join(root,dir)\n",
    "            print(test_path)"
   ]
  },
  {
   "cell_type": "code",
   "execution_count": null,
   "metadata": {},
   "outputs": [],
   "source": []
  }
 ],
 "metadata": {
  "kernelspec": {
   "display_name": "Python 3",
   "language": "python",
   "name": "python3"
  },
  "language_info": {
   "codemirror_mode": {
    "name": "ipython",
    "version": 3
   },
   "file_extension": ".py",
   "mimetype": "text/x-python",
   "name": "python",
   "nbconvert_exporter": "python",
   "pygments_lexer": "ipython3",
   "version": "3.10.10"
  },
  "orig_nbformat": 4,
  "vscode": {
   "interpreter": {
    "hash": "04b815c6f433821a83cc9e9c7b49330b771dd14bac87c94a36c7a9e0484b87a3"
   }
  }
 },
 "nbformat": 4,
 "nbformat_minor": 2
}
