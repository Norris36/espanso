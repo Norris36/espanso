{
 "cells": [
  {
   "cell_type": "code",
   "execution_count": 1,
   "metadata": {},
   "outputs": [
    {
     "name": "stdout",
     "output_type": "stream",
     "text": [
      "13:00\n"
     ]
    }
   ],
   "source": [
    "# lets first get the datetime module so that we can make use of the datetime object\n",
    "from datetime import datetime, timedelta\n",
    "# now lets get the currrent date and time\n",
    "now = datetime.now()\n",
    "# now lets get the current time\n",
    "now = now.time()\n",
    "# now lets get the minutes from the datetime object\n",
    "if now.minute < 30:\n",
    "    # now lets subtract the minutes from the datetime object\n",
    "    new_now = datetime.combine(datetime.today(), now) - timedelta(minutes=now.minute)\n",
    "    # now lets make sure that the seconds and miliseconds are 0\n",
    "    new_now = new_now.replace(second=0, microsecond=0)\n",
    "else:\n",
    "    # now lets add the delta between 60 and the minutes from the datetime object\n",
    "    new_now = datetime.combine(datetime.today(), now) + timedelta(minutes=60 - now.minute)\n",
    "    new_now = new_now.replace(second=0, microsecond=0)\n",
    "    \n",
    "# lets add two hours to the datetime object\n",
    "new_now = new_now + timedelta(hours=2)\n",
    "    \n",
    "# lets print the new_now object in the format that we want hours : minutes\n",
    "print(new_now.strftime(\"%H:%M\"))    "
   ]
  },
  {
   "cell_type": "code",
   "execution_count": 6,
   "metadata": {},
   "outputs": [
    {
     "data": {
      "text/plain": [
       "datetime.datetime(2023, 11, 22, 11, 30)"
      ]
     },
     "execution_count": 6,
     "metadata": {},
     "output_type": "execute_result"
    }
   ],
   "source": [
    "# lets make a script which will give me the next half hour timeslot from right now\n",
    "# lets make the necessary imports\n",
    "from datetime import datetime, timedelta\n",
    "# lets get the current time\n",
    "now = datetime.now()\n",
    "# lets see if the current minute is less than 30\n",
    "if now.minute < 30:\n",
    "    # lets subtract the minutes from the current time\n",
    "    new_now = datetime.combine(datetime.today().date(), now.time()) - timedelta(minutes=now.minute)\n",
    "    # lets make sure that the seconds and miliseconds are 0\n",
    "    new_now = new_now.replace(second=0, microsecond=0)    \n",
    "    # now lets add 30 minutes to the new_now object\n",
    "    new_now = new_now + timedelta(minutes=30)\n",
    "else:\n",
    "    # lets add the delta between 60 and the minutes from the datetime object\n",
    "    new_now = datetime.combine(datetime.today().date(), now.time()) + timedelta(minutes=60 - now.minute)\n",
    "    new_now = new_now.replace(second=0, microsecond=0)\n",
    "    # now lets add 30 minutes to the new_now object\n",
    "    new_now = new_now + timedelta(minutes=30)\n",
    "    \n",
    "new_now"
   ]
  },
  {
   "cell_type": "code",
   "execution_count": null,
   "metadata": {},
   "outputs": [],
   "source": []
  },
  {
   "cell_type": "code",
   "execution_count": 1,
   "metadata": {},
   "outputs": [
    {
     "name": "stdout",
     "output_type": "stream",
     "text": [
      "Collecting package metadata (current_repodata.json): ...working... done\n",
      "Solving environment: ...working... \n",
      "\n",
      "Updating python is constricted by \n",
      "\n",
      "anaconda -> requires python==3.9.13=h6244533_1\n",
      "\n",
      "If you are sure you want an update of your package either try `conda update --all` or install a specific version of the package you want using `conda install <pkg>=<version>`\n",
      "\n",
      "done\n",
      "\n",
      "# All requested packages already installed.\n",
      "\n",
      "Retrieving notices: ...working... done\n",
      "\n",
      "Note: you may need to restart the kernel to use updated packages.\n"
     ]
    },
    {
     "name": "stderr",
     "output_type": "stream",
     "text": [
      "\n",
      "\n",
      "==> WARNING: A newer version of conda exists. <==\n",
      "  current version: 22.9.0\n",
      "  latest version: 23.11.0\n",
      "\n",
      "Please update conda by running\n",
      "\n",
      "    $ conda update -n base -c defaults conda\n",
      "\n",
      "\n"
     ]
    }
   ],
   "source": [
    "conda update python"
   ]
  },
  {
   "cell_type": "code",
   "execution_count": 12,
   "metadata": {},
   "outputs": [
    {
     "name": "stdout",
     "output_type": "stream",
     "text": [
      "2\n",
      "Done\n"
     ]
    }
   ],
   "source": [
    "# the goal with this script is to take the clipboard check that it has less than 3 spaces, no lines, and under 30 chars, if so, it should add a set of lines to the file package.yml in the packages/name-fixer folder\n",
    "# the lines shoulder by the clipboard, stripped of info, plus - trigger: in front then the next line should be the clibpard titel cased, and then the next line should be word = true if there is no spaces in it\n",
    "# lets import the necessary stuff\n",
    "import pyperclip\n",
    "\n",
    "# lets get the clipboard\n",
    "clipboard = pyperclip.paste()\n",
    "\n",
    "# lets check if the clipboard is empty\n",
    "if clipboard == \"\":\n",
    "    print('Nothing in clip')\n",
    "elif len(clipboard.split(' ')) > 3:\n",
    "    print('Clip has to many spaces')\n",
    "elif len(clipboard) > 30:\n",
    "    print('Clip is too long')\n",
    "else:\n",
    "    clipboard = clipboard.strip()\n",
    "    print(len(clipboard.split(' ')))\n",
    "    if len(clipboard.split(' ')) == 1:\n",
    "        new_line = f\"  - regex: {clipboard}\\n    replace: {clipboard.title()}\\n    word: true\\n\"\n",
    "    else:\n",
    "        new_line = f\"  - trigger: '{clipboard}'\\n    replace: '{clipboard.title()}'\\n\"\n",
    "        \n",
    "    # now lets open the path and check the last line in the file\n",
    "    # if it is not an empty line, lets first add an empty line\n",
    "    # when we've done so, then lets add the new_line var to the file, followed by a new empty line\n",
    "    path = r'C:\\Users\\jbay\\AppData\\Roaming\\espanso\\match\\packages\\name fixer\\package.yml'\n",
    "    \n",
    "    with open(path, 'r') as file:\n",
    "        lines = file.readlines()\n",
    "        \n",
    "    if lines[-1] != '\\n':\n",
    "        lines.append('\\n')\n",
    "    \n",
    "    lines.append(new_line)\n",
    "    lines.append('\\n')\n",
    "    \n",
    "    with open(path, 'w') as file:\n",
    "        file.writelines(lines)\n",
    "        \n",
    "    print('Done')\n",
    "    \n",
    "print('hej')"
   ]
  },
  {
   "cell_type": "code",
   "execution_count": null,
   "metadata": {},
   "outputs": [],
   "source": []
  },
  {
   "cell_type": "code",
   "execution_count": null,
   "metadata": {},
   "outputs": [],
   "source": []
  },
  {
   "cell_type": "code",
   "execution_count": 2,
   "metadata": {},
   "outputs": [
    {
     "name": "stdout",
     "output_type": "stream",
     "text": [
      "Done\n"
     ]
    }
   ],
   "source": [
    "# lets write a script which takes the clipboard and indexes each of the lines and returns it\n",
    "# lets import the necessary stuff\n",
    "import pyperclip\n",
    "# lets get the clipboard\n",
    "clipboard = pyperclip.paste()\n",
    "# lets split the clipboard by line\n",
    "clipboard = clipboard.split('\\n')\n",
    "# lets create a new string\n",
    "new_clipboard = ''\n",
    "# lets loop through the clipboard\n",
    "for index, line in enumerate(clipboard):\n",
    "    # lets add the index to the line\n",
    "    new_clipboard += f'{index + 1}. {line}\\n'\n",
    "# lets copy the new_clipboard to the clipboard\n",
    "pyperclip.copy(new_clipboard)\n",
    "print('Done')"
   ]
  },
  {
   "cell_type": "code",
   "execution_count": 11,
   "metadata": {},
   "outputs": [
    {
     "data": {
      "text/plain": [
       "'flashingL1ghts-10'"
      ]
     },
     "execution_count": 11,
     "metadata": {},
     "output_type": "execute_result"
    }
   ],
   "source": [
    "# lets write takes a word and creates a good password out if it\n",
    "# we will do that by lowercasing the first word upper casing the second adding a number in the second word, a dash, and a number more\n",
    "from datetime import datetime\n",
    "import random\n",
    "\n",
    "def get_minute():\n",
    "    now = datetime.now()\n",
    "    now = now.minute\n",
    "    if now < 10:\n",
    "        now = str(random.randint(0, 9)) + str(now)\n",
    "    else:\n",
    "        now = str(now)\n",
    "        \n",
    "    return now\n",
    "\n",
    "def replace_letter(word):\n",
    "    letter_dict = {\n",
    "        'a': '4',\n",
    "        'e': '3',\n",
    "        'i': '1',\n",
    "        'o': '0',\n",
    "        'u': '5'    \n",
    "        }\n",
    "    for letter in word:\n",
    "        if letter in letter_dict.keys():\n",
    "            word = word.replace(letter, letter_dict[letter])\n",
    "            break\n",
    "    return word\n",
    "\n",
    "def strimmer(input):\n",
    "    if len(input) < 10:\n",
    "        print('Not enough here')\n",
    "        return None\n",
    "    elif len(input) > 10 and ' ' in input:\n",
    "        input = input.split(' ')\n",
    "        input[0] = input[0].lower()\n",
    "        input[1] = replace_letter(input[1].capitalize())\n",
    "        input = ''.join(input)\n",
    "        return input\n",
    "    # lets make a case for if there is more than one space\n",
    "    elif len(input) > 10 and input.count(' ') > 1:\n",
    "        input = input.split(' ')\n",
    "        input[0] = input[0].lower()\n",
    "        input[1] = replace_letter(input[1].capitalize())\n",
    "        # lets make a loop which takes all items not the first and second and lowercases them\n",
    "        input[2:] = [item.lower() for item in input[2:]]\n",
    "        input = ''.join(input)\n",
    "        return input\n",
    "\n",
    "input = 'Flashing Lights'\n",
    "input = strimmer(input)\n",
    "input = input + \"-\" + get_minute()\n",
    "input"
   ]
  },
  {
   "cell_type": "code",
   "execution_count": 6,
   "metadata": {},
   "outputs": [],
   "source": []
  },
  {
   "cell_type": "code",
   "execution_count": 8,
   "metadata": {},
   "outputs": [
    {
     "data": {
      "text/plain": [
       "'homeC0ming'"
      ]
     },
     "execution_count": 8,
     "metadata": {},
     "output_type": "execute_result"
    }
   ],
   "source": [
    "# lets write a function which takes a string, and if it is less than 10 chars long returns false, \n",
    "# if it is longer and contains a space splits it and returns the first word lowercase and the capitalised, with a number in the second word\n",
    "# if it is longer and contains more than a space, it should do the same as above, but lowercase the last word too\n",
    "\n",
    "\n",
    "    \n",
    "    \n",
    "strimmer('Home Coming')"
   ]
  },
  {
   "cell_type": "code",
   "execution_count": 13,
   "metadata": {},
   "outputs": [
    {
     "name": "stdout",
     "output_type": "stream",
     "text": [
      "Done\n"
     ]
    }
   ],
   "source": [
    "# lets write a script which takes a string of items separated by commas and replaces that with lines breaks\n",
    "# lets import the necessary stuff\n",
    "# lets make a testcase for the script\n",
    "test_case = 'hello, world, how, are, you, doing'\n",
    "# lets set it to the clipboard\n",
    "pyperclip.copy(test_case)\n",
    "\n",
    "import pyperclip\n",
    "# lets get the clipboard\n",
    "clipboard = pyperclip.paste()\n",
    "# lets replace the commas with line breaks\n",
    "clipboard = clipboard.replace(', ', '\\n')\n",
    "# lets copy the new clipboard to the clipboard\n",
    "pyperclip.copy(clipboard)\n",
    "print('Done')"
   ]
  },
  {
   "cell_type": "code",
   "execution_count": null,
   "metadata": {},
   "outputs": [],
   "source": []
  },
  {
   "cell_type": "code",
   "execution_count": null,
   "metadata": {},
   "outputs": [],
   "source": [
    "# lets iterate through a loop, and remove items containing a certain string\n"
   ]
  }
 ],
 "metadata": {
  "kernelspec": {
   "display_name": "base",
   "language": "python",
   "name": "python3"
  },
  "language_info": {
   "codemirror_mode": {
    "name": "ipython",
    "version": 3
   },
   "file_extension": ".py",
   "mimetype": "text/x-python",
   "name": "python",
   "nbconvert_exporter": "python",
   "pygments_lexer": "ipython3",
   "version": "3.9.18"
  }
 },
 "nbformat": 4,
 "nbformat_minor": 2
}
