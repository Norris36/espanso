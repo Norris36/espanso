{
 "cells": [
  {
   "cell_type": "code",
   "execution_count": 25,
   "metadata": {},
   "outputs": [],
   "source": [
    "import pandas as pd \n",
    "import pyperclip as py\n",
    "import regex as re\n",
    "input = py.paste()  # Get the number variable from the environment variables.\n",
    "\n",
    "matches = re.findall('^i-\\w{17}$', input, re.MULTILINE)\n",
    "\n",
    "if len(matches) > 0:\n",
    "    input = matches[0]\n",
    "    # print(matches[0])\n",
    "else:\n",
    "    print('No matches found.')\n",
    "    \n",
    "path = r'C:\\Users\\jbay\\AppData\\Roaming\\espanso\\match\\scripts\\i_codes.csv'\n",
    "\n",
    "df = pd.read_csv(path)\n",
    "\n",
    "df.loc[0, df.columns[0]] = input\n",
    "\n",
    "df.to_csv(path, index=False)"
   ]
  },
  {
   "cell_type": "code",
   "execution_count": 28,
   "metadata": {},
   "outputs": [
    {
     "name": "stdout",
     "output_type": "stream",
     "text": [
      ".\\aws --profile production-eng ssm start-session --region us-east-1 --target i-098ceb070e35de0b7 --document-name AWS-StartPortForwardingSessionToRemoteHost --parameters host=\"dotcom.ccxrngmoosoq.us-east-1.rds.amazonaws.com\",portNumber=\"5432\",localPortNumber=\"55432\"\n"
     ]
    },
    {
     "ename": "",
     "evalue": "",
     "output_type": "error",
     "traceback": [
      "\u001b[1;31mThe Kernel crashed while executing code in the the current cell or a previous cell. Please review the code in the cell(s) to identify a possible cause of the failure. Click <a href='https://aka.ms/vscodeJupyterKernelCrash'>here</a> for more info. View Jupyter <a href='command:jupyter.viewOutput'>log</a> for further details."
     ]
    }
   ],
   "source": [
    "import pandas as pd\n",
    "path = r'C:\\Users\\jbay\\AppData\\Roaming\\espanso\\match\\scripts\\i_codes.csv'\n",
    "\n",
    "df = pd.read_csv(path)\n",
    "\n",
    "print(r'.\\aws --profile production-eng ssm start-session --region us-east-1 --target ' + str(df.loc[0, df.columns[0]]) +' --document-name AWS-StartPortForwardingSessionToRemoteHost --parameters host=\"dotcom.ccxrngmoosoq.us-east-1.rds.amazonaws.com\",portNumber=\"5432\",localPortNumber=\"55432\"')"
   ]
  },
  {
   "cell_type": "code",
   "execution_count": 24,
   "metadata": {},
   "outputs": [],
   "source": [
    "df.to_csv(path, index=False)"
   ]
  },
  {
   "cell_type": "code",
   "execution_count": 12,
   "metadata": {},
   "outputs": [
    {
     "ename": "SyntaxError",
     "evalue": "leading zeros in decimal integer literals are not permitted; use an 0o prefix for octal integers (362829817.py, line 1)",
     "output_type": "error",
     "traceback": [
      "\u001b[1;36m  Cell \u001b[1;32mIn[12], line 1\u001b[1;36m\u001b[0m\n\u001b[1;33m    i-098ceb070e35de0b7 i-098ceb070e35de0b4\u001b[0m\n\u001b[1;37m      ^\u001b[0m\n\u001b[1;31mSyntaxError\u001b[0m\u001b[1;31m:\u001b[0m leading zeros in decimal integer literals are not permitted; use an 0o prefix for octal integers\n"
     ]
    }
   ],
   "source": [
    "i-098ceb070e35de0b7 i-098ceb070e35de0b4"
   ]
  }
 ],
 "metadata": {
  "kernelspec": {
   "display_name": "base",
   "language": "python",
   "name": "python3"
  },
  "language_info": {
   "codemirror_mode": {
    "name": "ipython",
    "version": 3
   },
   "file_extension": ".py",
   "mimetype": "text/x-python",
   "name": "python",
   "nbconvert_exporter": "python",
   "pygments_lexer": "ipython3",
   "version": "3.10.11"
  },
  "orig_nbformat": 4,
  "vscode": {
   "interpreter": {
    "hash": "16d86558e7c49e37f0100736823e43a5f25703a366747128f13522c1aa9babee"
   }
  }
 },
 "nbformat": 4,
 "nbformat_minor": 2
}
